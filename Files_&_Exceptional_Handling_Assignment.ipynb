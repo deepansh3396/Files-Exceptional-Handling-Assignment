{
  "nbformat": 4,
  "nbformat_minor": 0,
  "metadata": {
    "colab": {
      "provenance": []
    },
    "kernelspec": {
      "name": "python3",
      "display_name": "Python 3"
    },
    "language_info": {
      "name": "python"
    }
  },
  "cells": [
    {
      "cell_type": "code",
      "execution_count": 1,
      "metadata": {
        "colab": {
          "base_uri": "https://localhost:8080/"
        },
        "id": "j3Cp5qRpz5vu",
        "outputId": "5cc750ce-1c6b-4edc-df2a-ec9ab5d7a939"
      },
      "outputs": [
        {
          "output_type": "stream",
          "name": "stdout",
          "text": [
            "Added 0: [0]\n",
            "Removed 0: []\n",
            "Added 1: [1]\n",
            "Removed 1: []\n",
            "Added 2: [2]\n",
            "Removed 2: []\n",
            "Added 3: [3]\n",
            "Added 4: [3, 4]\n",
            "Added 5: [3, 4, 5]\n",
            "Removed 3: [4, 5]\n",
            "Added 6: [4, 5, 6]\n",
            "Added 7: [4, 5, 6, 7]\n",
            "Removed 4: [5, 6, 7]\n",
            "Added 8: [5, 6, 7, 8]\n",
            "Added 9: [5, 6, 7, 8, 9]\n",
            "Removed 5: [6, 7, 8, 9]\n",
            "Removed 6: [7, 8, 9]\n",
            "Final list: [7, 8, 9]\n"
          ]
        }
      ],
      "source": [
        "##  Write a Python program using multithreading where one thread adds numbers to a list, and another thread removes numbers from the list. Implement a mechanism to avoid race conditions using threading.Lock.\n",
        "\n",
        "import threading\n",
        "import time\n",
        "import random\n",
        "\n",
        "# Shared list and lock\n",
        "shared_list = []\n",
        "lock = threading.Lock()\n",
        "\n",
        "def add_numbers():\n",
        "    \"\"\"Thread function to add numbers to the list.\"\"\"\n",
        "    for i in range(10):\n",
        "        time.sleep(random.uniform(0.1, 0.5))  # Simulate work\n",
        "        with lock:\n",
        "            shared_list.append(i)\n",
        "            print(f\"Added {i}: {shared_list}\")\n",
        "\n",
        "def remove_numbers():\n",
        "    \"\"\"Thread function to remove numbers from the list.\"\"\"\n",
        "    for _ in range(10):\n",
        "        time.sleep(random.uniform(0.1, 0.5))  # Simulate work\n",
        "        with lock:\n",
        "            if shared_list:  # Check if the list is not empty\n",
        "                removed = shared_list.pop(0)\n",
        "                print(f\"Removed {removed}: {shared_list}\")\n",
        "\n",
        "if __name__ == \"__main__\":\n",
        "    # Create threads\n",
        "    add_thread = threading.Thread(target=add_numbers)\n",
        "    remove_thread = threading.Thread(target=remove_numbers)\n",
        "\n",
        "    # Start threads\n",
        "    add_thread.start()\n",
        "    remove_thread.start()\n",
        "\n",
        "    # Wait for both threads to complete\n",
        "    add_thread.join()\n",
        "    remove_thread.join()\n",
        "\n",
        "    print(\"Final list:\", shared_list)\n"
      ]
    },
    {
      "cell_type": "code",
      "source": [
        "## Create a program that uses a thread pool to calculate the factorial of numbers from 1 to 10 concurrently. Use concurrent.futures.ThreadPoolExecutor to manage the threads.\n",
        "\n",
        "import concurrent.futures\n",
        "import math\n",
        "\n",
        "def calculate_factorial(n):\n",
        "    \"\"\"Function to calculate factorial of a number.\"\"\"\n",
        "    return math.factorial(n)\n",
        "\n",
        "def main():\n",
        "    numbers = range(1, 11)  # Numbers from 1 to 10\n",
        "\n",
        "    # Using ThreadPoolExecutor to manage threads\n",
        "    with concurrent.futures.ThreadPoolExecutor() as executor:\n",
        "        # Map the calculate_factorial function to the numbers\n",
        "        results = list(executor.map(calculate_factorial, numbers))\n",
        "\n",
        "    # Print the results\n",
        "    for number, factorial in zip(numbers, results):\n",
        "        print(f\"The factorial of {number} is {factorial}\")\n",
        "\n",
        "if __name__ == \"__main__\":\n",
        "    main()\n"
      ],
      "metadata": {
        "colab": {
          "base_uri": "https://localhost:8080/"
        },
        "id": "9P5gI9fJ0R-u",
        "outputId": "61f2ca49-840e-43e9-cd7a-86f49859ef55"
      },
      "execution_count": 2,
      "outputs": [
        {
          "output_type": "stream",
          "name": "stdout",
          "text": [
            "The factorial of 1 is 1\n",
            "The factorial of 2 is 2\n",
            "The factorial of 3 is 6\n",
            "The factorial of 4 is 24\n",
            "The factorial of 5 is 120\n",
            "The factorial of 6 is 720\n",
            "The factorial of 7 is 5040\n",
            "The factorial of 8 is 40320\n",
            "The factorial of 9 is 362880\n",
            "The factorial of 10 is 3628800\n"
          ]
        }
      ]
    },
    {
      "cell_type": "code",
      "source": [
        "## Create a Python program that uses multiprocessing.Pool to compute the square of numbers from 1 to 10 in parallel. Measure the time taken to perform this computation using a pool of different sizes (e.g., 2, 4, 8 processes).\n",
        "\n",
        "import multiprocessing\n",
        "import time\n",
        "\n",
        "def square(n):\n",
        "    \"\"\"Function to compute the square of a number.\"\"\"\n",
        "    return n * n\n",
        "\n",
        "def compute_squares(pool_size):\n",
        "    \"\"\"Function to compute squares of numbers from 1 to 10 using a Pool.\"\"\"\n",
        "    with multiprocessing.Pool(pool_size) as pool:\n",
        "        results = pool.map(square, range(1, 11))\n",
        "    return results\n",
        "\n",
        "if __name__ == \"__main__\":\n",
        "    pool_sizes = [2, 4, 8]\n",
        "    numbers = range(1, 11)\n",
        "\n",
        "    for size in pool_sizes:\n",
        "        start_time = time.time()\n",
        "        results = compute_squares(size)\n",
        "        end_time = time.time()\n",
        "        duration = end_time - start_time\n",
        "        print(f\"Pool size: {size}, Results: {results}, Time taken: {duration:.4f} seconds\")\n"
      ],
      "metadata": {
        "colab": {
          "base_uri": "https://localhost:8080/"
        },
        "id": "femLj5r70h84",
        "outputId": "2a74e978-dfa5-4238-e1f3-035318898b23"
      },
      "execution_count": 3,
      "outputs": [
        {
          "output_type": "stream",
          "name": "stdout",
          "text": [
            "Pool size: 2, Results: [1, 4, 9, 16, 25, 36, 49, 64, 81, 100], Time taken: 0.0416 seconds\n",
            "Pool size: 4, Results: [1, 4, 9, 16, 25, 36, 49, 64, 81, 100], Time taken: 0.0443 seconds\n",
            "Pool size: 8, Results: [1, 4, 9, 16, 25, 36, 49, 64, 81, 100], Time taken: 0.0885 seconds\n"
          ]
        }
      ]
    },
    {
      "cell_type": "code",
      "source": [],
      "metadata": {
        "id": "ZBpjlDKE0ruz"
      },
      "execution_count": null,
      "outputs": []
    }
  ]
}